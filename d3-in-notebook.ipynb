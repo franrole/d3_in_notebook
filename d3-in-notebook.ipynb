{
 "cells": [
  {
   "cell_type": "code",
   "execution_count": 9,
   "metadata": {
    "collapsed": false
   },
   "outputs": [
    {
     "data": {
      "text/html": [
       "<script>\n",
       "code_show=true; \n",
       "function code_toggle() {\n",
       " if (code_show){\n",
       " $('div.input').hide();\n",
       " } else {\n",
       " $('div.input').show();\n",
       " }\n",
       " code_show = !code_show\n",
       "} \n",
       "$( document ).ready(code_toggle);\n",
       "</script>\n",
       "<form action=\"javascript:code_toggle()\"><input type=\"submit\" value=\"Click here to toggle on/off the raw code.\"></form>"
      ],
      "text/plain": [
       "<IPython.core.display.HTML object>"
      ]
     },
     "execution_count": 9,
     "metadata": {},
     "output_type": "execute_result"
    }
   ],
   "source": [
    "from IPython.display import HTML\n",
    "\n",
    "HTML('''<script>\n",
    "code_show=true; \n",
    "function code_toggle() {\n",
    " if (code_show){\n",
    " $('div.input').hide();\n",
    " } else {\n",
    " $('div.input').show();\n",
    " }\n",
    " code_show = !code_show\n",
    "} \n",
    "$( document ).ready(code_toggle);\n",
    "</script>\n",
    "<form action=\"javascript:code_toggle()\"><input type=\"submit\" value=\"Click here to toggle on/off the raw code.\"></form>''')"
   ]
  },
  {
   "cell_type": "markdown",
   "metadata": {},
   "source": [
    "### Les fonctions de IPython.display"
   ]
  },
  {
   "cell_type": "code",
   "execution_count": 19,
   "metadata": {
    "collapsed": true
   },
   "outputs": [],
   "source": [
    "from IPython.display import (display, HTML,Javascript, display_html, display_javascript)"
   ]
  },
  {
   "cell_type": "code",
   "execution_count": 8,
   "metadata": {
    "collapsed": false
   },
   "outputs": [
    {
     "data": {
      "text/html": [
       "\n",
       "<style>\n",
       ".bar {\n",
       " fill: steelblue;\n",
       "}\n",
       ".bar:hover {\n",
       " fill: brown;\n",
       "}\n",
       ".axis {\n",
       " font: 10px sans-serif;\n",
       "}\n",
       ".axis path,\n",
       ".axis line {\n",
       " fill: none;\n",
       " stroke: #000;\n",
       "}\n",
       ".x.axis path {\n",
       " display: none;\n",
       "}\n",
       "</style>\n",
       "<div id=\"chart_d3\">Hello avec display(HTML(...!</div>\n"
      ],
      "text/plain": [
       "<IPython.core.display.HTML object>"
      ]
     },
     "metadata": {},
     "output_type": "display_data"
    }
   ],
   "source": [
    "display(HTML(\"\"\"\n",
    "<style>\n",
    ".bar {\n",
    " fill: steelblue;\n",
    "}\n",
    ".bar:hover {\n",
    " fill: brown;\n",
    "}\n",
    ".axis {\n",
    " font: 10px sans-serif;\n",
    "}\n",
    ".axis path,\n",
    ".axis line {\n",
    " fill: none;\n",
    " stroke: #000;\n",
    "}\n",
    ".x.axis path {\n",
    " display: none;\n",
    "}\n",
    "</style>\n",
    "<div id=\"chart_d3\">Hello avec display(HTML(...!</div>\n",
    "\"\"\"))"
   ]
  },
  {
   "cell_type": "code",
   "execution_count": 11,
   "metadata": {
    "collapsed": false
   },
   "outputs": [
    {
     "data": {
      "text/html": [
       "\n",
       "<style>\n",
       ".bar {\n",
       " fill: steelblue;\n",
       "}\n",
       ".bar:hover {\n",
       " fill: brown;\n",
       "}\n",
       ".axis {\n",
       " font: 10px sans-serif;\n",
       "}\n",
       ".axis path,\n",
       ".axis line {\n",
       " fill: none;\n",
       " stroke: #000;\n",
       "}\n",
       ".x.axis path {\n",
       " display: none;\n",
       "}\n",
       "</style>\n",
       "<div id=\"chart_d3\">Hello sans display d'un objet HTML(...!</div>\n"
      ],
      "text/plain": [
       "<IPython.core.display.HTML object>"
      ]
     },
     "execution_count": 11,
     "metadata": {},
     "output_type": "execute_result"
    }
   ],
   "source": [
    "h=HTML(\"\"\"\n",
    "<style>\n",
    ".bar {\n",
    " fill: steelblue;\n",
    "}\n",
    ".bar:hover {\n",
    " fill: brown;\n",
    "}\n",
    ".axis {\n",
    " font: 10px sans-serif;\n",
    "}\n",
    ".axis path,\n",
    ".axis line {\n",
    " fill: none;\n",
    " stroke: #000;\n",
    "}\n",
    ".x.axis path {\n",
    " display: none;\n",
    "}\n",
    "</style>\n",
    "<div id=\"chart_d3\">Hello sans display d'un objet HTML(...!</div>\n",
    "\"\"\")\n",
    "h"
   ]
  },
  {
   "cell_type": "code",
   "execution_count": 14,
   "metadata": {
    "collapsed": false
   },
   "outputs": [
    {
     "data": {
      "text/html": [
       "\n",
       "<style>\n",
       ".bar {\n",
       " fill: steelblue;\n",
       "}\n",
       ".bar:hover {\n",
       " fill: brown;\n",
       "}\n",
       ".axis {\n",
       " font: 10px sans-serif;\n",
       "}\n",
       ".axis path,\n",
       ".axis line {\n",
       " fill: none;\n",
       " stroke: #000;\n",
       "}\n",
       ".x.axis path {\n",
       " display: none;\n",
       "}\n",
       "</style>\n",
       "<div id=\"chart_d3\">Hello sans display d'un objet HTML(...!</div>\n"
      ]
     },
     "metadata": {},
     "output_type": "display_data"
    }
   ],
   "source": [
    "display_html(h) # display(h) ok aussi comme vu plus haut\n",
    "# conveniencefunction"
   ]
  },
  {
   "cell_type": "code",
   "execution_count": 15,
   "metadata": {
    "collapsed": false
   },
   "outputs": [
    {
     "data": {
      "application/javascript": [
       "alert('hello!')"
      ],
      "text/plain": [
       "<IPython.core.display.Javascript object>"
      ]
     },
     "execution_count": 15,
     "metadata": {},
     "output_type": "execute_result"
    }
   ],
   "source": [
    "Javascript(\"alert('hello!')\")\n",
    "# NON : display_javascript(\"alert('hello!')\")"
   ]
  },
  {
   "cell_type": "code",
   "execution_count": 22,
   "metadata": {
    "collapsed": true
   },
   "outputs": [],
   "source": []
  },
  {
   "cell_type": "markdown",
   "metadata": {},
   "source": [
    "### Utiliser D3\n",
    "\n",
    "On definit :\n",
    "- un code HTML avec une div d'affichage\n",
    "- une chaine de code Javascript contenant :\n",
    "\n",
    "   - require.config({paths: {d3: \"http://d3js.org/d3.v3.min\"}});\n",
    "   - require([\"d3\"], function(d3) {code agissant sur le HTML }\n",
    "   \n",
    "- une cellule evaluant la chaîne de codeJavascript\n"
   ]
  },
  {
   "cell_type": "code",
   "execution_count": 56,
   "metadata": {
    "collapsed": false
   },
   "outputs": [
    {
     "data": {
      "text/html": [
       "<style>\n",
       ".chart div {\n",
       "  font: 18px sans-serif;\n",
       "  background-color: steelblue;\n",
       "  text-align: right;\n",
       "  padding: 5px;\n",
       "  margin: 3px;\n",
       "  color: white;\n",
       "}\n",
       "</style>\n",
       "<div class=\"chart\"></div>"
      ],
      "text/plain": [
       "<IPython.core.display.HTML object>"
      ]
     },
     "metadata": {},
     "output_type": "display_data"
    }
   ],
   "source": [
    "%%HTML\n",
    "<style>\n",
    ".chart div {\n",
    "  font: 18px sans-serif;\n",
    "  background-color: steelblue;\n",
    "  text-align: right;\n",
    "  padding: 5px;\n",
    "  margin: 3px;\n",
    "  color: white;\n",
    "}\n",
    "</style>\n",
    "<div class=\"chart\"></div>"
   ]
  },
  {
   "cell_type": "code",
   "execution_count": 57,
   "metadata": {
    "collapsed": false
   },
   "outputs": [],
   "source": [
    "JS_TEMPLATE = \"\"\"\n",
    "// We load the d3.js library from the Web.\n",
    "require.config({paths: {d3: \"http://d3js.org/d3.v3.min\"}});\n",
    "require([\"d3\"], function(d3) {\n",
    "    // Example from http://bost.ocks.org/mike/bar/\n",
    "\n",
    "    // Define the data.\n",
    "    var data = %s;\n",
    "\n",
    "    // We normalize the data.\n",
    "    var x = d3.scale.linear()\n",
    "        .domain([0, d3.max(data)])\n",
    "        .range([0, 420]);\n",
    "\n",
    "    // We define a categorical color map.\n",
    "    var color = d3.scale.category10();\n",
    "\n",
    "    // We create the chart.\n",
    "    d3.select(\".chart\")\n",
    "      .selectAll(\"div\")\n",
    "        .data(data)\n",
    "      .enter().append(\"div\")\n",
    "        .style(\"width\", function(d) { return x(d) + \"px\"; })\n",
    "        .text(function(d) { return d; });\n",
    "\n",
    "});\n",
    "\"\"\"\n",
    "my_list = [2, 3, 5, 7, 11, 13]\n",
    "JS = JS_TEMPLATE % str(my_list)"
   ]
  },
  {
   "cell_type": "code",
   "execution_count": 58,
   "metadata": {
    "collapsed": false
   },
   "outputs": [
    {
     "data": {
      "application/javascript": [
       "\n",
       "// We load the d3.js library from the Web.\n",
       "require.config({paths: {d3: \"http://d3js.org/d3.v3.min\"}});\n",
       "require([\"d3\"], function(d3) {\n",
       "    // Example from http://bost.ocks.org/mike/bar/\n",
       "\n",
       "    // Define the data.\n",
       "    var data = [2, 3, 5, 7, 11, 13];\n",
       "\n",
       "    // We normalize the data.\n",
       "    var x = d3.scale.linear()\n",
       "        .domain([0, d3.max(data)])\n",
       "        .range([0, 420]);\n",
       "\n",
       "    // We define a categorical color map.\n",
       "    var color = d3.scale.category10();\n",
       "\n",
       "    // We create the chart.\n",
       "    d3.select(\".chart\")\n",
       "      .selectAll(\"div\")\n",
       "        .data(data)\n",
       "      .enter().append(\"div\")\n",
       "        .style(\"width\", function(d) { return x(d) + \"px\"; })\n",
       "        .text(function(d) { return d; });\n",
       "\n",
       "});\n"
      ],
      "text/plain": [
       "<IPython.core.display.Javascript object>"
      ]
     },
     "execution_count": 58,
     "metadata": {},
     "output_type": "execute_result"
    }
   ],
   "source": [
    "Javascript(JS) # ou ok aussi display_javascript(JS, raw=True)"
   ]
  },
  {
   "cell_type": "markdown",
   "metadata": {},
   "source": [
    "### Exemple de graphe  simple"
   ]
  },
  {
   "cell_type": "code",
   "execution_count": 54,
   "metadata": {
    "collapsed": false
   },
   "outputs": [
    {
     "data": {
      "text/html": [
       "    <style>\n",
       "\n",
       ".node {\n",
       "    fill: #ccc;\n",
       "    stroke: #fff;\n",
       "    stroke-width: 2px;\n",
       "}\n",
       "\n",
       ".link {\n",
       "    stroke: #777;\n",
       "    stroke-width: 2px;\n",
       "}\n",
       "\n",
       "    </style>\n",
       "<div class=\"mygraph\"></graph>"
      ],
      "text/plain": [
       "<IPython.core.display.HTML object>"
      ]
     },
     "metadata": {},
     "output_type": "display_data"
    }
   ],
   "source": [
    "%%HTML\n",
    "    <style>\n",
    "\n",
    ".node {\n",
    "    fill: #ccc;\n",
    "    stroke: #fff;\n",
    "    stroke-width: 2px;\n",
    "}\n",
    "\n",
    ".link {\n",
    "    stroke: #777;\n",
    "    stroke-width: 2px;\n",
    "}\n",
    "\n",
    "    </style>\n",
    "<div class=\"mygraph\"></graph>"
   ]
  },
  {
   "cell_type": "code",
   "execution_count": 53,
   "metadata": {
    "collapsed": false
   },
   "outputs": [],
   "source": [
    "JS = \"\"\"\n",
    "// We load the d3.js library from the Web.\n",
    "require.config({paths: {d3: \"http://d3js.org/d3.v3.min\"}});\n",
    "require([\"d3\"], function(d3) {\n",
    "\n",
    "var width = 320,\n",
    "    height = 240;\n",
    "\n",
    "// Define the data for the example. In general, a force layout\n",
    "// requires two data arrays. The first array, here named `nodes`,\n",
    "// contains the object that are the focal point of the visualization.\n",
    "// The second array, called `links` below, identifies all the links\n",
    "// between the nodes. (The more mathematical term is \"edges.\")\n",
    "\n",
    "// For the simplest possible example we only define two nodes. As\n",
    "// far as D3 is concerned, nodes are arbitrary objects. Normally the\n",
    "// objects wouldn't be initialized with `x` and `y` properties like\n",
    "// we're doing below. When those properties are present, they tell\n",
    "// D3 where to place the nodes before the force layout starts its\n",
    "// magic. More typically, they're left out of the nodes and D3 picks\n",
    "// random locations for each node. We're defining them here so we can\n",
    "// get a consistent application of the layout which lets us see the\n",
    "// effects of different properties.\n",
    "\n",
    "var nodes = [\n",
    "    { x:   width/3, y: height/2 },\n",
    "    { x: 2*width/3, y: height/2 },\n",
    "    { x: 2*width/3, y: height/2 }\n",
    "];\n",
    "\n",
    "// The `links` array contains objects with a `source` and a `target`\n",
    "// property. The values of those properties are the indices in\n",
    "// the `nodes` array of the two endpoints of the link.\n",
    "\n",
    "var links = [\n",
    "    { source: 0, target: 1 },\n",
    "    { source: 0, target: 2 },\n",
    "    { source: 1, target: 2 }\n",
    "];\n",
    "\n",
    "// Here's were the code begins. We start off by creating an SVG\n",
    "// container to hold the visualization. We only need to specify\n",
    "// the dimensions for this container.\n",
    "\n",
    "var svg = d3.select('.mygraph').append('svg')\n",
    "    .attr('width', width)\n",
    "    .attr('height', height);\n",
    "\n",
    "// Now we create a force layout object and define its properties.\n",
    "// Those include the dimensions of the visualization and the arrays\n",
    "// of nodes and links.\n",
    "\n",
    "var force = d3.layout.force()\n",
    "    .size([width, height])\n",
    "    .nodes(nodes)\n",
    "    .links(links);\n",
    "\n",
    "// There's one more property of the layout we need to define,\n",
    "// its `linkDistance`. That's generally a configurable value and,\n",
    "// for a first example, we'd normally leave it at its default.\n",
    "// Unfortunately, the default value results in a visualization\n",
    "// that's not especially clear. This parameter defines the\n",
    "// distance (normally in pixels) that we'd like to have between\n",
    "// nodes that are connected. (It is, thus, the length we'd\n",
    "// like our links to have.)\n",
    "\n",
    "force.linkDistance(width/2);  // tell it how far apart we want connected nodes to be\n",
    "\n",
    "// Next we'll add the nodes and links to the visualization.\n",
    "// Note that we're just sticking them into the SVG container\n",
    "// at this point. We start with the links. The order here is\n",
    "// important because we want the nodes to appear \"on top of\"\n",
    "// the links. SVG doesn't really have a convenient equivalent\n",
    "// to HTML's `z-index`; instead it relies on the order of the\n",
    "// elements in the markup. By adding the nodes _after_ the\n",
    "// links we ensure that nodes appear on top of links.\n",
    "\n",
    "// Links are pretty simple. They're just SVG lines, and\n",
    "// we're not even going to specify their coordinates. (We'll\n",
    "// let the force layout take care of that.) Without any\n",
    "// coordinates, the lines won't even be visible, but the\n",
    "// markup will be sitting inside the SVG container ready\n",
    "// and waiting for the force layout.\n",
    "\n",
    "var link = svg.selectAll('.link')\n",
    "    .data(links)\n",
    "    .enter().append('line')\n",
    "    .attr('class', 'link');\n",
    "\n",
    "// Now it's the nodes turn. Each node is drawn as a circle.\n",
    "\n",
    "var node = svg.selectAll('.node')\n",
    "    .data(nodes)\n",
    "    .enter().append('circle')\n",
    "    .attr('class', 'node');\n",
    "\n",
    "// We're about to tell the force layout to start its\n",
    "// calculations. We do, however, want to know when those\n",
    "// calculations are complete, so before we kick things off\n",
    "// we'll define a function that we want the layout to call\n",
    "// once the calculations are done.\n",
    "\n",
    "force.on('end', function() {\n",
    "\n",
    "    // When this function executes, the force layout\n",
    "    // calculations have concluded. The layout will\n",
    "    // have set various properties in our nodes and\n",
    "    // links objects that we can use to position them\n",
    "    // within the SVG container.\n",
    "\n",
    "    // First let's reposition the nodes. As the force\n",
    "    // layout runs it updates the `x` and `y` properties\n",
    "    // that define where the node should be centered.\n",
    "    // To move the node, we set the appropriate SVG\n",
    "    // attributes to their new values. We also have to\n",
    "    // give the node a non-zero radius so that it's visible\n",
    "    // in the container.\n",
    "\n",
    "    node.attr('r', width/25)\n",
    "        .attr('cx', function(d) { return d.x; })\n",
    "        .attr('cy', function(d) { return d.y; });\n",
    "\n",
    "    // We also need to update positions of the links.\n",
    "    // For those elements, the force layout sets the\n",
    "    // `source` and `target` properties, specifying\n",
    "    // `x` and `y` values in each case.\n",
    "\n",
    "    link.attr('x1', function(d) { return d.source.x; })\n",
    "        .attr('y1', function(d) { return d.source.y; })\n",
    "        .attr('x2', function(d) { return d.target.x; })\n",
    "        .attr('y2', function(d) { return d.target.y; });\n",
    "\n",
    "});\n",
    "\n",
    "// Okay, everything is set up now so it's time to turn\n",
    "// things over to the force layout. Here we go.\n",
    "\n",
    "force.start();\n",
    "\n",
    "});\n",
    "\"\"\""
   ]
  },
  {
   "cell_type": "code",
   "execution_count": 55,
   "metadata": {
    "collapsed": false
   },
   "outputs": [
    {
     "data": {
      "application/javascript": [
       "\n",
       "// We load the d3.js library from the Web.\n",
       "require.config({paths: {d3: \"http://d3js.org/d3.v3.min\"}});\n",
       "require([\"d3\"], function(d3) {\n",
       "\n",
       "var width = 320,\n",
       "    height = 240;\n",
       "\n",
       "// Define the data for the example. In general, a force layout\n",
       "// requires two data arrays. The first array, here named `nodes`,\n",
       "// contains the object that are the focal point of the visualization.\n",
       "// The second array, called `links` below, identifies all the links\n",
       "// between the nodes. (The more mathematical term is \"edges.\")\n",
       "\n",
       "// For the simplest possible example we only define two nodes. As\n",
       "// far as D3 is concerned, nodes are arbitrary objects. Normally the\n",
       "// objects wouldn't be initialized with `x` and `y` properties like\n",
       "// we're doing below. When those properties are present, they tell\n",
       "// D3 where to place the nodes before the force layout starts its\n",
       "// magic. More typically, they're left out of the nodes and D3 picks\n",
       "// random locations for each node. We're defining them here so we can\n",
       "// get a consistent application of the layout which lets us see the\n",
       "// effects of different properties.\n",
       "\n",
       "var nodes = [\n",
       "    { x:   width/3, y: height/2 },\n",
       "    { x: 2*width/3, y: height/2 },\n",
       "    { x: 2*width/3, y: height/2 }\n",
       "];\n",
       "\n",
       "// The `links` array contains objects with a `source` and a `target`\n",
       "// property. The values of those properties are the indices in\n",
       "// the `nodes` array of the two endpoints of the link.\n",
       "\n",
       "var links = [\n",
       "    { source: 0, target: 1 },\n",
       "    { source: 0, target: 2 },\n",
       "    { source: 1, target: 2 }\n",
       "];\n",
       "\n",
       "// Here's were the code begins. We start off by creating an SVG\n",
       "// container to hold the visualization. We only need to specify\n",
       "// the dimensions for this container.\n",
       "\n",
       "var svg = d3.select('.mygraph').append('svg')\n",
       "    .attr('width', width)\n",
       "    .attr('height', height);\n",
       "\n",
       "// Now we create a force layout object and define its properties.\n",
       "// Those include the dimensions of the visualization and the arrays\n",
       "// of nodes and links.\n",
       "\n",
       "var force = d3.layout.force()\n",
       "    .size([width, height])\n",
       "    .nodes(nodes)\n",
       "    .links(links);\n",
       "\n",
       "// There's one more property of the layout we need to define,\n",
       "// its `linkDistance`. That's generally a configurable value and,\n",
       "// for a first example, we'd normally leave it at its default.\n",
       "// Unfortunately, the default value results in a visualization\n",
       "// that's not especially clear. This parameter defines the\n",
       "// distance (normally in pixels) that we'd like to have between\n",
       "// nodes that are connected. (It is, thus, the length we'd\n",
       "// like our links to have.)\n",
       "\n",
       "force.linkDistance(width/2);  // tell it how far apart we want connected nodes to be\n",
       "\n",
       "// Next we'll add the nodes and links to the visualization.\n",
       "// Note that we're just sticking them into the SVG container\n",
       "// at this point. We start with the links. The order here is\n",
       "// important because we want the nodes to appear \"on top of\"\n",
       "// the links. SVG doesn't really have a convenient equivalent\n",
       "// to HTML's `z-index`; instead it relies on the order of the\n",
       "// elements in the markup. By adding the nodes _after_ the\n",
       "// links we ensure that nodes appear on top of links.\n",
       "\n",
       "// Links are pretty simple. They're just SVG lines, and\n",
       "// we're not even going to specify their coordinates. (We'll\n",
       "// let the force layout take care of that.) Without any\n",
       "// coordinates, the lines won't even be visible, but the\n",
       "// markup will be sitting inside the SVG container ready\n",
       "// and waiting for the force layout.\n",
       "\n",
       "var link = svg.selectAll('.link')\n",
       "    .data(links)\n",
       "    .enter().append('line')\n",
       "    .attr('class', 'link');\n",
       "\n",
       "// Now it's the nodes turn. Each node is drawn as a circle.\n",
       "\n",
       "var node = svg.selectAll('.node')\n",
       "    .data(nodes)\n",
       "    .enter().append('circle')\n",
       "    .attr('class', 'node');\n",
       "\n",
       "// We're about to tell the force layout to start its\n",
       "// calculations. We do, however, want to know when those\n",
       "// calculations are complete, so before we kick things off\n",
       "// we'll define a function that we want the layout to call\n",
       "// once the calculations are done.\n",
       "\n",
       "force.on('end', function() {\n",
       "\n",
       "    // When this function executes, the force layout\n",
       "    // calculations have concluded. The layout will\n",
       "    // have set various properties in our nodes and\n",
       "    // links objects that we can use to position them\n",
       "    // within the SVG container.\n",
       "\n",
       "    // First let's reposition the nodes. As the force\n",
       "    // layout runs it updates the `x` and `y` properties\n",
       "    // that define where the node should be centered.\n",
       "    // To move the node, we set the appropriate SVG\n",
       "    // attributes to their new values. We also have to\n",
       "    // give the node a non-zero radius so that it's visible\n",
       "    // in the container.\n",
       "\n",
       "    node.attr('r', width/25)\n",
       "        .attr('cx', function(d) { return d.x; })\n",
       "        .attr('cy', function(d) { return d.y; });\n",
       "\n",
       "    // We also need to update positions of the links.\n",
       "    // For those elements, the force layout sets the\n",
       "    // `source` and `target` properties, specifying\n",
       "    // `x` and `y` values in each case.\n",
       "\n",
       "    link.attr('x1', function(d) { return d.source.x; })\n",
       "        .attr('y1', function(d) { return d.source.y; })\n",
       "        .attr('x2', function(d) { return d.target.x; })\n",
       "        .attr('y2', function(d) { return d.target.y; });\n",
       "\n",
       "});\n",
       "\n",
       "// Okay, everything is set up now so it's time to turn\n",
       "// things over to the force layout. Here we go.\n",
       "\n",
       "force.start();\n",
       "\n",
       "});\n"
      ],
      "text/plain": [
       "<IPython.core.display.Javascript object>"
      ]
     },
     "execution_count": 55,
     "metadata": {},
     "output_type": "execute_result"
    }
   ],
   "source": [
    "Javascript(JS) # ou ok aussi display_javascript(JS, raw=True)"
   ]
  },
  {
   "cell_type": "markdown",
   "metadata": {},
   "source": [
    "### Simple Static Graph with D3"
   ]
  },
  {
   "cell_type": "markdown",
   "metadata": {},
   "source": [
    "JS = \"\"\"\n",
    "// We load the d3.js library from the Web.\n",
    "require.config({paths: {d3: \"http://d3js.org/d3.v3.min\"}});\n",
    "require([\"d3\"], function(d3) {\n",
    "   var width = 960,\n",
    "    height = 500;\n",
    "\n",
    "var n = 100,\n",
    "    nodes = d3.range(n).map(function() { return {}; }),\n",
    "    links = d3.range(n).map(function(d) { return {source: d, target: (d + 3) % n}; });\n",
    "\n",
    "var force = d3.layout.force()\n",
    "    .nodes(nodes)\n",
    "    .links(links)\n",
    "    .size([width, height]);\n",
    "\n",
    "var svg = d3.select(\".graph\").append(\"svg\")\n",
    "    .attr(\"width\", width)\n",
    "    .attr(\"height\", height);\n",
    "\n",
    "var loading = svg.append(\"text\")\n",
    "    .attr(\"x\", width / 2)\n",
    "    .attr(\"y\", height / 2)\n",
    "    .attr(\"dy\", \".35em\")\n",
    "    .style(\"text-anchor\", \"middle\")\n",
    "    .text(\"Simulating. One moment please…\");\n",
    "\n",
    "// Use a timeout to allow the rest of the page to load first.\n",
    "setTimeout(function() {\n",
    "\n",
    "  // Run the layout a fixed number of times.\n",
    "  // The ideal number of times scales with graph complexity.\n",
    "  // Of course, don't run too long—you'll hang the page!\n",
    "  force.start();\n",
    "  for (var i = n * n; i > 0; --i) force.tick();\n",
    "  force.stop();\n",
    "\n",
    "  svg.selectAll(\"line\")\n",
    "      .data(links)\n",
    "    .enter().append(\"line\")\n",
    "      .attr(\"x1\", function(d) { return d.source.x; })\n",
    "      .attr(\"y1\", function(d) { return d.source.y; })\n",
    "      .attr(\"x2\", function(d) { return d.target.x; })\n",
    "      .attr(\"y2\", function(d) { return d.target.y; });\n",
    "\n",
    "  svg.selectAll(\"circle\")\n",
    "      .data(nodes)\n",
    "    .enter().append(\"circle\")\n",
    "      .attr(\"cx\", function(d) { return d.x; })\n",
    "      .attr(\"cy\", function(d) { return d.y; })\n",
    "      .attr(\"r\", 4.5);\n",
    "\n",
    "  loading.remove();\n",
    "}, 10);\n",
    "\n",
    "});\n",
    "\"\"\""
   ]
  },
  {
   "cell_type": "code",
   "execution_count": 38,
   "metadata": {
    "collapsed": false
   },
   "outputs": [
    {
     "data": {
      "text/html": [
       "<style>\n",
       "\n",
       "text {\n",
       "  font: 10px sans-serif;\n",
       "}\n",
       "\n",
       "line {\n",
       "  stroke: #000;\n",
       "  stroke-width: 1.5px;\n",
       "}\n",
       "\n",
       "circle {\n",
       "  stroke: #fff;\n",
       "  stroke-width: 1.5px;\n",
       "}\n",
       "\n",
       "</style>\n",
       "<div class=\"graph\"></div>"
      ],
      "text/plain": [
       "<IPython.core.display.HTML object>"
      ]
     },
     "metadata": {},
     "output_type": "display_data"
    }
   ],
   "source": [
    "%%HTML\n",
    "<style>\n",
    "\n",
    "text {\n",
    "  font: 10px sans-serif;\n",
    "}\n",
    "\n",
    "line {\n",
    "  stroke: #000;\n",
    "  stroke-width: 1.5px;\n",
    "}\n",
    "\n",
    "circle {\n",
    "  stroke: #fff;\n",
    "  stroke-width: 1.5px;\n",
    "}\n",
    "\n",
    "</style>\n",
    "<div class=\"graph\"></div>"
   ]
  },
  {
   "cell_type": "code",
   "execution_count": 39,
   "metadata": {
    "collapsed": false
   },
   "outputs": [
    {
     "data": {
      "application/javascript": [
       "\n",
       "// We load the d3.js library from the Web.\n",
       "require.config({paths: {d3: \"http://d3js.org/d3.v3.min\"}});\n",
       "require([\"d3\"], function(d3) {\n",
       "   var width = 960,\n",
       "    height = 500;\n",
       "\n",
       "var n = 100,\n",
       "    nodes = d3.range(n).map(function() { return {}; }),\n",
       "    links = d3.range(n).map(function(d) { return {source: d, target: (d + 3) % n}; });\n",
       "\n",
       "var force = d3.layout.force()\n",
       "    .nodes(nodes)\n",
       "    .links(links)\n",
       "    .size([width, height]);\n",
       "\n",
       "var svg = d3.select(\".graph\").append(\"svg\")\n",
       "    .attr(\"width\", width)\n",
       "    .attr(\"height\", height);\n",
       "\n",
       "var loading = svg.append(\"text\")\n",
       "    .attr(\"x\", width / 2)\n",
       "    .attr(\"y\", height / 2)\n",
       "    .attr(\"dy\", \".35em\")\n",
       "    .style(\"text-anchor\", \"middle\")\n",
       "    .text(\"Simulating. One moment please…\");\n",
       "\n",
       "// Use a timeout to allow the rest of the page to load first.\n",
       "setTimeout(function() {\n",
       "\n",
       "  // Run the layout a fixed number of times.\n",
       "  // The ideal number of times scales with graph complexity.\n",
       "  // Of course, don't run too long—you'll hang the page!\n",
       "  force.start();\n",
       "  for (var i = n * n; i > 0; --i) force.tick();\n",
       "  force.stop();\n",
       "\n",
       "  svg.selectAll(\"line\")\n",
       "      .data(links)\n",
       "    .enter().append(\"line\")\n",
       "      .attr(\"x1\", function(d) { return d.source.x; })\n",
       "      .attr(\"y1\", function(d) { return d.source.y; })\n",
       "      .attr(\"x2\", function(d) { return d.target.x; })\n",
       "      .attr(\"y2\", function(d) { return d.target.y; });\n",
       "\n",
       "  svg.selectAll(\"circle\")\n",
       "      .data(nodes)\n",
       "    .enter().append(\"circle\")\n",
       "      .attr(\"cx\", function(d) { return d.x; })\n",
       "      .attr(\"cy\", function(d) { return d.y; })\n",
       "      .attr(\"r\", 4.5);\n",
       "\n",
       "  loading.remove();\n",
       "}, 10);\n",
       "\n",
       "});\n"
      ],
      "text/plain": [
       "<IPython.core.display.Javascript object>"
      ]
     },
     "execution_count": 39,
     "metadata": {},
     "output_type": "execute_result"
    }
   ],
   "source": [
    "Javascript(JS)"
   ]
  },
  {
   "cell_type": "code",
   "execution_count": 3,
   "metadata": {
    "collapsed": false
   },
   "outputs": [
    {
     "data": {
      "application/javascript": [
       "$.getScript('//cdnjs.cloudflare.com/ajax/libs/d3/3.2.2/d3.v3.min.js')"
      ],
      "text/plain": [
       "<IPython.core.display.Javascript object>"
      ]
     },
     "execution_count": 3,
     "metadata": {},
     "output_type": "execute_result"
    }
   ],
   "source": [
    "Javascript(\n",
    "    \"\"\"$.getScript('//cdnjs.cloudflare.com/ajax/libs/d3/3.2.2/d3.v3.min.js')\"\"\")"
   ]
  }
 ],
 "metadata": {
  "kernelspec": {
   "display_name": "Python 3",
   "language": "python",
   "name": "python3"
  },
  "language_info": {
   "codemirror_mode": {
    "name": "ipython",
    "version": 3
   },
   "file_extension": ".py",
   "mimetype": "text/x-python",
   "name": "python",
   "nbconvert_exporter": "python",
   "pygments_lexer": "ipython3",
   "version": "3.4.0"
  }
 },
 "nbformat": 4,
 "nbformat_minor": 0
}
